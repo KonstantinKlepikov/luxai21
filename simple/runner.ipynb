{
 "cells": [
  {
   "cell_type": "code",
   "execution_count": null,
   "metadata": {
    "execution": {
     "iopub.execute_input": "2021-09-05T22:30:51.426505Z",
     "iopub.status.busy": "2021-09-05T22:30:51.426148Z",
     "iopub.status.idle": "2021-09-05T22:30:51.564098Z",
     "shell.execute_reply": "2021-09-05T22:30:51.563019Z",
     "shell.execute_reply.started": "2021-09-05T22:30:51.426449Z"
    }
   },
   "outputs": [],
   "source": [
    "from kaggle_environments import make\n",
    "from agent import agent"
   ]
  },
  {
   "cell_type": "code",
   "execution_count": null,
   "metadata": {
    "execution": {
     "iopub.execute_input": "2021-09-05T22:30:51.565947Z",
     "iopub.status.busy": "2021-09-05T22:30:51.565625Z",
     "iopub.status.idle": "2021-09-05T22:30:52.383297Z",
     "shell.execute_reply": "2021-09-05T22:30:52.382162Z",
     "shell.execute_reply.started": "2021-09-05T22:30:51.565914Z"
    }
   },
   "outputs": [],
   "source": [
    "env = make(\n",
    "    \"lux_ai_2021\", \n",
    "    configuration={\"seed\": 562124210, \"loglevel\": 2, \"annotations\": True}, \n",
    "    debug=True,\n",
    ")"
   ]
  },
  {
   "cell_type": "code",
   "execution_count": null,
   "metadata": {},
   "outputs": [],
   "source": [
    "steps = env.run([agent, \"simple_agent\"])"
   ]
  },
  {
   "cell_type": "markdown",
   "metadata": {},
   "source": [
    "# Render the game"
   ]
  },
  {
   "cell_type": "code",
   "execution_count": null,
   "metadata": {},
   "outputs": [],
   "source": [
    "#  env.render(mode=\"ipython\", width=1200, height=800)"
   ]
  }
 ],
 "metadata": {
  "kernelspec": {
   "display_name": "Python 3 (ipykernel)",
   "language": "python",
   "name": "python3"
  },
  "language_info": {
   "codemirror_mode": {
    "name": "ipython",
    "version": 3
   },
   "file_extension": ".py",
   "mimetype": "text/x-python",
   "name": "python",
   "nbconvert_exporter": "python",
   "pygments_lexer": "ipython3",
   "version": "3.8.6"
  },
  "nbTranslate": {
   "displayLangs": [
    "ru",
    "en"
   ],
   "hotkey": "alt-t",
   "langInMainMenu": true,
   "sourceLang": "en",
   "targetLang": "ru",
   "useGoogleTranslate": true
  }
 },
 "nbformat": 4,
 "nbformat_minor": 4
}
