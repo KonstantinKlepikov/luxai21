{
 "cells": [
  {
   "cell_type": "code",
   "execution_count": 1,
   "metadata": {
    "execution": {
     "iopub.execute_input": "2021-09-05T22:30:51.426505Z",
     "iopub.status.busy": "2021-09-05T22:30:51.426148Z",
     "iopub.status.idle": "2021-09-05T22:30:51.564098Z",
     "shell.execute_reply": "2021-09-05T22:30:51.563019Z",
     "shell.execute_reply.started": "2021-09-05T22:30:51.426449Z"
    }
   },
   "outputs": [
    {
     "name": "stdout",
     "output_type": "stream",
     "text": [
      "Loading environment football failed: No module named 'gfootball'\n"
     ]
    }
   ],
   "source": [
    "from kaggle_environments import make\n",
    "import json"
   ]
  },
  {
   "cell_type": "markdown",
   "metadata": {},
   "source": [
    "# Create the environment. \n",
    "\n",
    "You can also specify configurations for seed and loglevel as shown below. If not specified, a random seed is chosen. \n",
    "\n",
    "- loglevel default is 0\n",
    "- 1 is for errors\n",
    "- 2 is for match warnings such as units colliding, invalid commands (recommended)\n",
    "- 3 for info level\n",
    "- 4 for everything (not recommended)\n",
    " \n",
    "set annotations True so annotation commands are drawn on visualizer\n",
    "\n",
    "set debug to True so print statements get shown"
   ]
  },
  {
   "cell_type": "code",
   "execution_count": 2,
   "metadata": {
    "execution": {
     "iopub.execute_input": "2021-09-05T22:30:51.565947Z",
     "iopub.status.busy": "2021-09-05T22:30:51.565625Z",
     "iopub.status.idle": "2021-09-05T22:30:52.383297Z",
     "shell.execute_reply": "2021-09-05T22:30:52.382162Z",
     "shell.execute_reply.started": "2021-09-05T22:30:51.565914Z"
    }
   },
   "outputs": [],
   "source": [
    "env = make(\n",
    "    \"lux_ai_2021\", \n",
    "    configuration={\"seed\": 562124210, \"loglevel\": 2, \"annotations\": True}, \n",
    "    debug=True,\n",
    ")"
   ]
  },
  {
   "cell_type": "markdown",
   "metadata": {},
   "source": [
    "# Create agent"
   ]
  },
  {
   "cell_type": "code",
   "execution_count": 3,
   "metadata": {
    "execution": {
     "iopub.execute_input": "2021-09-05T22:32:30.870488Z",
     "iopub.status.busy": "2021-09-05T22:32:30.870086Z",
     "iopub.status.idle": "2021-09-05T22:32:30.880782Z",
     "shell.execute_reply": "2021-09-05T22:32:30.879613Z",
     "shell.execute_reply.started": "2021-09-05T22:32:30.870436Z"
    }
   },
   "outputs": [],
   "source": [
    "# for kaggle-environments\n",
    "from lux.game import Game\n",
    "from lux.game_map import Cell, RESOURCE_TYPES, Position\n",
    "from lux.constants import Constants\n",
    "from lux.game_constants import GAME_CONSTANTS\n",
    "from lux import annotate\n",
    "import math\n",
    "import sys\n",
    "\n",
    "# we declare this global game_state object so that state \n",
    "# persists across turns so we do not need to reinitialize it all the time\n",
    "game_state = None\n",
    "def agent(observation, configuration):\n",
    "    global game_state\n",
    "\n",
    "    ### Do not edit ###\n",
    "    if observation[\"step\"] == 0:\n",
    "        game_state = Game()\n",
    "        game_state._initialize(observation[\"updates\"])\n",
    "        game_state._update(observation[\"updates\"][2:])\n",
    "        game_state.id = observation.player\n",
    "    else:\n",
    "        game_state._update(observation[\"updates\"])\n",
    "    \n",
    "    actions = []\n",
    "\n",
    "    ### AI Code goes down here! ### \n",
    "    player = game_state.players[observation.player]\n",
    "    opponent = game_state.players[(observation.player + 1) % 2]\n",
    "    width, height = game_state.map.width, game_state.map.height\n",
    "    \n",
    "    # add debug statements like so!\n",
    "    if game_state.turn == 0:\n",
    "        print(\"Agent is running!\", file=sys.stderr)\n",
    "        actions.append(annotate.circle(0, 0))\n",
    "    return actions"
   ]
  },
  {
   "cell_type": "markdown",
   "metadata": {},
   "source": [
    "# Run a match between two agents"
   ]
  },
  {
   "cell_type": "code",
   "execution_count": 4,
   "metadata": {},
   "outputs": [
    {
     "name": "stdout",
     "output_type": "stream",
     "text": [
      "Agent is running!\n"
     ]
    }
   ],
   "source": [
    "steps = env.run([agent, \"simple_agent\"])"
   ]
  },
  {
   "cell_type": "markdown",
   "metadata": {},
   "source": [
    "# Render the game"
   ]
  },
  {
   "cell_type": "code",
   "execution_count": null,
   "metadata": {},
   "outputs": [],
   "source": [
    "#  env.render(mode=\"ipython\", width=1200, height=800)"
   ]
  },
  {
   "cell_type": "markdown",
   "metadata": {},
   "source": [
    "# Create support function"
   ]
  },
  {
   "cell_type": "code",
   "execution_count": 5,
   "metadata": {},
   "outputs": [],
   "source": [
    "# this snippet finds all resources stored on the map and puts them into a list so we can search over them\n",
    "def find_resources(game_state):\n",
    "    resource_tiles: list[Cell] = []\n",
    "    width, height = game_state.map_width, game_state.map_height\n",
    "    for y in range(height):\n",
    "        for x in range(width):\n",
    "            cell = game_state.map.get_cell(x, y)\n",
    "            if cell.has_resource():\n",
    "                resource_tiles.append(cell)\n",
    "    return resource_tiles\n",
    "\n",
    "# the next snippet finds the closest resources that we can mine given position on a map\n",
    "def find_closest_resources(pos, player, resource_tiles):\n",
    "    closest_dist = math.inf\n",
    "    closest_resource_tile = None\n",
    "    for resource_tile in resource_tiles:\n",
    "        # we skip over resources that we can't mine due to not having researched them\n",
    "        if resource_tile.resource.type == Constants.RESOURCE_TYPES.COAL and not player.researched_coal(): continue\n",
    "        if resource_tile.resource.type == Constants.RESOURCE_TYPES.URANIUM and not player.researched_uranium(): continue\n",
    "        dist = resource_tile.pos.distance_to(pos)\n",
    "        if dist < closest_dist:\n",
    "            closest_dist = dist\n",
    "            closest_resource_tile = resource_tile\n",
    "    return closest_resource_tile"
   ]
  },
  {
   "cell_type": "markdown",
   "metadata": {},
   "source": [
    "# View some data about game statement"
   ]
  },
  {
   "cell_type": "markdown",
   "metadata": {},
   "source": [
    "## Game and agents"
   ]
  },
  {
   "cell_type": "code",
   "execution_count": 6,
   "metadata": {},
   "outputs": [
    {
     "name": "stdout",
     "output_type": "stream",
     "text": [
      "Game turn is: 359\n"
     ]
    }
   ],
   "source": [
    "print('Game turn is: {}'.format(game_state.turn))"
   ]
  },
  {
   "cell_type": "code",
   "execution_count": 7,
   "metadata": {},
   "outputs": [
    {
     "name": "stdout",
     "output_type": "stream",
     "text": [
      "Agents ids. Player: 0. Opponent: 1\n"
     ]
    }
   ],
   "source": [
    "print('Agents ids. Player: {}. Opponent: {}'.format(game_state.id, (game_state.id + 1) % 2))"
   ]
  },
  {
   "cell_type": "code",
   "execution_count": 8,
   "metadata": {},
   "outputs": [
    {
     "name": "stdout",
     "output_type": "stream",
     "text": [
      "players objects:\n",
      "Player: <lux.game_objects.Player object at 0x7f1cceebd7c0>\n",
      "Opponent: <lux.game_objects.Player object at 0x7f1ccedd4160>\n"
     ]
    }
   ],
   "source": [
    "print('players objects:')\n",
    "print('Player:', game_state.players[game_state.id])\n",
    "print('Opponent:', game_state.players[(game_state.id + 1) % 2])"
   ]
  },
  {
   "cell_type": "markdown",
   "metadata": {},
   "source": [
    "## Map"
   ]
  },
  {
   "cell_type": "code",
   "execution_count": 9,
   "metadata": {},
   "outputs": [
    {
     "name": "stdout",
     "output_type": "stream",
     "text": [
      "map size properties: 32 x 32\n",
      "Map object :  <lux.game_map.GameMap object at 0x7f1ccedcd700>\n",
      "Map cell by coordinates:  <lux.game_map.Cell object at 0x7f1ccedc9b80>\n"
     ]
    }
   ],
   "source": [
    "print('map size properties: {} x {}'.format(game_state.map.width, game_state.map.height))\n",
    "print('Map object : ', game_state.map)\n",
    "print('Map cell by coordinates: ', game_state.map.get_cell(12, 24))"
   ]
  },
  {
   "cell_type": "code",
   "execution_count": 10,
   "metadata": {},
   "outputs": [
    {
     "name": "stdout",
     "output_type": "stream",
     "text": [
      "Position object on map in sell 1,1: , (1, 1)\n",
      "Map cell by position:  <lux.game_map.Cell object at 0x7f1ca9136940>\n"
     ]
    }
   ],
   "source": [
    "print('Position object on map in sell 1,1: ,', Position(1, 1))\n",
    "print('Map cell by position: ', game_state.map.get_cell_by_pos(Position(1, 1)))"
   ]
  },
  {
   "cell_type": "markdown",
   "metadata": {},
   "source": [
    "## Position"
   ]
  },
  {
   "cell_type": "code",
   "execution_count": 11,
   "metadata": {},
   "outputs": [
    {
     "name": "stdout",
     "output_type": "stream",
     "text": [
      "\"is_adjacent(pos: Position) -> bool\" returns true if this Position is adjacent to pos. False otherwise\n",
      "\n",
      "ajaced position True\n",
      "same position True\n",
      "not ajaced position False\n"
     ]
    }
   ],
   "source": [
    "print('\"is_adjacent(pos: Position) -> bool\" returns true if this Position is adjacent to pos. False otherwise\\n')\n",
    "print('ajaced position', Position(1, 2).is_adjacent(Position(1, 1)))\n",
    "print('same position', Position(1, 1).is_adjacent(Position(1, 1)))\n",
    "print('not ajaced position', Position(12, 12).is_adjacent(Position(1, 1)))"
   ]
  },
  {
   "cell_type": "code",
   "execution_count": 12,
   "metadata": {},
   "outputs": [
    {
     "name": "stdout",
     "output_type": "stream",
     "text": [
      "\"equals(pos: Position) -> bool\" - returns true if this Position is equal to the other pos object by       checking x, y coordinates. False otherwise\n",
      "\n",
      "same position is equals True\n"
     ]
    }
   ],
   "source": [
    "print('\"equals(pos: Position) -> bool\" - returns true if this Position is equal to the other pos object by \\\n",
    "      checking x, y coordinates. False otherwise\\n')\n",
    "print('same position is equals', Position(1, 1).equals(Position(1, 1)))"
   ]
  },
  {
   "cell_type": "code",
   "execution_count": 13,
   "metadata": {},
   "outputs": [
    {
     "name": "stdout",
     "output_type": "stream",
     "text": [
      "\"translate(direction: DIRECTIONS, units: int) -> Position\" - returns the Position equal to going in a direction units number of times from this Position\n",
      "\n",
      "5 times EAST from 1,1 position is: (6, 1)\n",
      "then 1 times NORTH position is: (6, 0)\n"
     ]
    }
   ],
   "source": [
    "print('\"translate(direction: DIRECTIONS, units: int) -> Position\" - returns the Position equal to going in \\\n",
    "a direction units number of times from this Position\\n')\n",
    "\n",
    "pos = Position(1, 1).translate(Constants.DIRECTIONS.EAST, 5)\n",
    "print('5 times EAST from 1,1 position is:', pos)\n",
    "print('then 1 times NORTH position is:', pos.translate(Constants.DIRECTIONS.NORTH, 1))"
   ]
  },
  {
   "cell_type": "markdown",
   "metadata": {},
   "source": [
    "![game_board](../game_board.png)"
   ]
  },
  {
   "cell_type": "code",
   "execution_count": 14,
   "metadata": {},
   "outputs": [
    {
     "name": "stdout",
     "output_type": "stream",
     "text": [
      "\"distance_to(pos: Position) -> float\" - returns the Manhattan (rectilinear) distance from this Position to pos\n",
      "\n",
      "Manhattam distance between 1,1 and 7,11 is:  16\n"
     ]
    }
   ],
   "source": [
    "print('\"distance_to(pos: Position) -> float\" - returns the Manhattan (rectilinear) distance \\\n",
    "from this Position to pos\\n')\n",
    "\n",
    "print('Manhattam distance between 1,1 and 7,11 is: ', Position(1, 1).distance_to(Position(7, 11)))"
   ]
  },
  {
   "cell_type": "code",
   "execution_count": 15,
   "metadata": {},
   "outputs": [
    {
     "name": "stdout",
     "output_type": "stream",
     "text": [
      "\"direction_to(target_pos: Position) -> DIRECTIONS\" - returns the direction that would move you closest to target_pos from this Position if you took a single step. In particular, will return DIRECTIONS.CENTER if this Position is equal to the target_pos. Note that this does not check for potential collisions with other units but serves as a basic pathfinding method\n",
      "\n",
      "Direction between 1,1 to 7,11 is:  e\n"
     ]
    }
   ],
   "source": [
    "print('\"direction_to(target_pos: Position) -> DIRECTIONS\" - returns the direction that would move you \\\n",
    "closest to target_pos from this Position if you took a single step. In particular, will \\\n",
    "return DIRECTIONS.CENTER if this Position is equal to the target_pos. Note that this does not \\\n",
    "check for potential collisions with other units but serves as a basic pathfinding method\\n')\n",
    "\n",
    "print('Direction between 1,1 to 7,11 is: ', Position(1, 1).direction_to(Position(7, 11)))\n",
    "assert Position(1, 1).direction_to(Position(7, 11)) == Constants.DIRECTIONS.EAST"
   ]
  },
  {
   "cell_type": "markdown",
   "metadata": {},
   "source": [
    "## Cell\n",
    "\n",
    "- pos: Position\n",
    "- resource: Resource - contains details of a Resource at this Cell. This may be equal to None or null equivalents in other languages. You should always use the function has_resource to check if this Cell has a Resource or not\n",
    "- road: float - the amount of Cooldown subtracted from a Unit's Cooldown whenever they perform an action on this tile. If there are roads, the more developed the road, the higher this Cooldown rate value is. Note that a Unit will always gain a base Cooldown amount whenever any action is performed.\n",
    "- citytile: CityTile - the citytile that is on this Cell. Equal to none or null equivalents in other languages if there is no CityTile here.\n",
    "\n",
    "has_resource() -> bool - returns true if this Cell has a non-depleted Resource, false otherwise"
   ]
  },
  {
   "cell_type": "code",
   "execution_count": 16,
   "metadata": {},
   "outputs": [
    {
     "name": "stdout",
     "output_type": "stream",
     "text": [
      "Cell object:  <lux.game_map.Cell object at 0x7f1ccee61ac0>\n",
      "Cell position:  (1, 1)\n",
      "Cell resourse details:  None\n",
      "Cell road details:  0\n",
      "Cell citytitle details:  None\n",
      "Cell has resource:  False\n"
     ]
    }
   ],
   "source": [
    "print('Cell object: ', Cell(1, 1))\n",
    "print('Cell position: ', Cell(1, 1).pos)\n",
    "print('Cell resourse details: ', Cell(1, 1).resource)\n",
    "print('Cell road details: ', Cell(1, 1).road)\n",
    "print('Cell citytitle details: ', Cell(1, 1).citytile)\n",
    "print('Cell has resource: ', Cell(1, 1).has_resource())"
   ]
  },
  {
   "cell_type": "markdown",
   "metadata": {},
   "source": [
    "## City\n",
    "\n",
    "- cityid: str - the id of this City. Each City id in the game is unique and will never be reused by new cities\n",
    "- team: int - the id of the team this City belongs to.\n",
    "- fuel: float - the fuel stored in this City. This fuel is consumed by all CityTiles in this City during each turn of night.\n",
    "- citytiles: list[CityTile] - a list of CityTile objects that form this one City collectively. A City is defined as all CityTiles that are connected via adjacent CityTiles.\n",
    "\n",
    "get_light_upkeep() -> float - returns the light upkeep per turn of the City. Fuel in the City is subtracted by the light upkeep each turn of night."
   ]
  },
  {
   "cell_type": "code",
   "execution_count": 17,
   "metadata": {},
   "outputs": [
    {
     "name": "stdout",
     "output_type": "stream",
     "text": [
      "{'c_1': <lux.game_objects.City object at 0x7f1ca920a6a0>}\n",
      "city object:  <lux.game_objects.City object at 0x7f1ca920a6a0>\n",
      "city id:  c_1\n",
      "city team id:  0\n",
      "city fuel stored:  137.0\n",
      "city tiles list:  [<lux.game_objects.CityTile object at 0x7f1ca920a340>]\n",
      "city light upkeep coast:  23.0\n"
     ]
    }
   ],
   "source": [
    "cityes = game_state.players[game_state.id].cities\n",
    "print(cityes)\n",
    "print('city object: ', cityes['c_1'])\n",
    "print('city id: ', cityes['c_1'].cityid)\n",
    "print('city team id: ', cityes['c_1'].team)\n",
    "print('city fuel stored: ', cityes['c_1'].fuel)\n",
    "print('city tiles list: ', cityes['c_1'].citytiles)\n",
    "print('city light upkeep coast: ', cityes['c_1'].get_light_upkeep())"
   ]
  },
  {
   "cell_type": "markdown",
   "metadata": {},
   "source": [
    "## CityTile\n",
    "\n",
    "- cityid: str - the id of the City this CityTile is a part of. Each City id in the game is unique and will never be reused by new cities\n",
    "- team: int - the id of the team this CityTile belongs to.\n",
    "- pos: Position - the Position of this City on the map\n",
    "- cooldown: float - the current Cooldown of this City.\n",
    "\n",
    "Methods:\n",
    "\n",
    "can_act() -> bool - whether this City can perform an action this turn, which is when the Cooldown is less than 1\n",
    "\n",
    "research() -> str - returns the research action\n",
    "\n",
    "build_worker() -> str - returns the build worker action. When applied and requirements are met, a worker will be built at the City.\n",
    "\n",
    "build_cart() -> str - returns the build cart action. When applied and requirements are met, a cart will be built at the City."
   ]
  },
  {
   "cell_type": "code",
   "execution_count": 18,
   "metadata": {},
   "outputs": [],
   "source": [
    "# snippet to find the closest city tile to a position\n",
    "def find_closest_city_tile(pos, player):\n",
    "    closest_city_tile = None\n",
    "    if len(player.cities) > 0:\n",
    "        closest_dist = math.inf\n",
    "        # the cities are stored as a dictionary mapping city id to the city object, which has a citytiles field that\n",
    "        # contains the information of all citytiles in that city\n",
    "        for k, city in player.cities.items():\n",
    "            for city_tile in city.citytiles:\n",
    "                dist = city_tile.pos.distance_to(pos)\n",
    "                if dist < closest_dist:\n",
    "                    closest_dist = dist\n",
    "                    closest_city_tile = city_tile\n",
    "    return closest_city_tile"
   ]
  },
  {
   "cell_type": "code",
   "execution_count": 19,
   "metadata": {},
   "outputs": [],
   "source": [
    "closest_city_tile = find_closest_city_tile(Cell(1, 1).pos, game_state.players[game_state.id])"
   ]
  },
  {
   "cell_type": "code",
   "execution_count": 20,
   "metadata": {},
   "outputs": [
    {
     "name": "stdout",
     "output_type": "stream",
     "text": [
      "city_tile id:  c_1\n",
      "city_tile team id:  0\n",
      "city_tile position:  (3, 27)\n",
      "city_tile current cooldown:  0.0\n"
     ]
    }
   ],
   "source": [
    "print('city_tile id: ', closest_city_tile.cityid)\n",
    "print('city_tile team id: ', closest_city_tile.team)\n",
    "print('city_tile position: ', closest_city_tile.pos)\n",
    "print('city_tile current cooldown: ', closest_city_tile.cooldown)"
   ]
  },
  {
   "cell_type": "code",
   "execution_count": 21,
   "metadata": {},
   "outputs": [
    {
     "name": "stdout",
     "output_type": "stream",
     "text": [
      "city_tile can perfor, action this turn:  True\n",
      "city_tile make research action:  r 3 27\n",
      "city_tile build worker:  bw 3 27\n",
      "city_tile build cart:  bc 3 27\n",
      "cant build because we have one city with one tile and one worker - its limited\n"
     ]
    }
   ],
   "source": [
    "print('city_tile can perfor, action this turn: ', closest_city_tile.can_act())\n",
    "print('city_tile make research action: ', closest_city_tile.research())\n",
    "print('city_tile build worker: ', closest_city_tile.build_worker())\n",
    "print('city_tile build cart: ', closest_city_tile.build_cart())\n",
    "print('cant build because we have one city with one tile and one worker - its limited')"
   ]
  },
  {
   "cell_type": "markdown",
   "metadata": {},
   "source": [
    "## Unit\n",
    "\n",
    "Properties:\n",
    "\n",
    "- pos: Position - the Position of this Unit on the map\n",
    "- team: int - the id of the team this Unit belongs to.\n",
    "- id: str - the id of this Unit. This is unique and cannot be repeated by any other Unit or City\n",
    "- cooldown: float - the current Cooldown of this Unit. Note that when this is less than 1, the Unit can perform an action\n",
    "- cargo.wood: int - the amount of wood held by this Unit\n",
    "- cargo.coal: int - the amount of coal held by this Unit\n",
    "- cargo.uranium: int - the amount of uranium held by this Unit\n",
    "\n",
    "Methods:\n",
    "\n",
    "- get_cargo_space_left(): int - returns the amount of space left in the cargo of this Unit. Note that any Resource takes up the same space, e.g. 70 wood takes up as much space as 70 uranium, but 70 uranium would produce much more fuel than wood when deposited at a City\n",
    "- can_build(game_map: GameMap): bool - returns true if the Unit can build a City on the tile it is on now. False otherwise. Checks that the tile does not have a Resource over it still and the Unit has a Cooldown of less than 1\n",
    "- can_act(): bool - returns true if the Unit can perform an action. False otherwise. Essentially checks whether the Cooldown of the Unit is less than 1\n",
    "- move(dir): str - returns the move action. When applied, Unit will move in the specified direction by one Unit, provided there are no other units in the way or opposition cities. (Units can stack on top of each other however when over a friendly City)\n",
    "- transfer(dest_id, resourceType, amount): str - returns the transfer action. Will transfer from this Unit the selected Resource type by the desired amount to the Unit with id dest_id given that both units are adjacent at the start of the turn. (This means that a destination Unit can receive a transfer of resources by another Unit but also move away from that Unit)\n",
    "- build_city(): str - returns the build City action. When applied, Unit will try to build a City right under itself provided it is an empty tile with no City or resources and the worker is carrying 100 units of resources. All resources are consumed if the city is succesfully built.\n",
    "- pillage(): str - returns the pillage action. When applied, Unit will pillage the tile it is currently on top of and remove 0.5 of the road level."
   ]
  },
  {
   "cell_type": "code",
   "execution_count": 24,
   "metadata": {},
   "outputs": [
    {
     "name": "stdout",
     "output_type": "stream",
     "text": [
      "First unit object of player:  <lux.game_objects.Unit object at 0x7f1ca9194ca0>\n"
     ]
    }
   ],
   "source": [
    "player = game_state.players[game_state.id]\n",
    "unit = player.units[0]\n",
    "print('First unit object of player: ', unit)"
   ]
  },
  {
   "cell_type": "code",
   "execution_count": 29,
   "metadata": {},
   "outputs": [
    {
     "name": "stdout",
     "output_type": "stream",
     "text": [
      "Properties:\n",
      "    position: (3, 27)\n",
      "    team: 0\n",
      "    id: u_1\n",
      "    cooldown: 0.0\n",
      "    cargo of wood/coal/uranium: 0/0/0\n"
     ]
    }
   ],
   "source": [
    "print(\n",
    "    'Properties:\\n\\\n",
    "    position: {0}\\n\\\n",
    "    team: {1}\\n\\\n",
    "    id: {2}\\n\\\n",
    "    cooldown: {3}\\n\\\n",
    "    cargo of wood/coal/uranium: {4}/{5}/{6}'.format(\n",
    "        unit.pos,\n",
    "        unit.team,\n",
    "        unit.id,\n",
    "        unit.cooldown,\n",
    "        unit.cargo.wood,\n",
    "        unit.cargo.coal,\n",
    "        unit.cargo.uranium,\n",
    "        )\n",
    "    )"
   ]
  },
  {
   "cell_type": "code",
   "execution_count": 36,
   "metadata": {},
   "outputs": [
    {
     "name": "stdout",
     "output_type": "stream",
     "text": [
      "Methods:\n",
      "    cargo space: 100\n",
      "    can build on that title: False\n",
      "    can act: True\n",
      "    transfer to chosen direction action: m u_1 n\n",
      "    build city action: bcity u_1\n",
      "    pillage action: p u_1\n",
      "    The actions performeds if it possible\n"
     ]
    }
   ],
   "source": [
    "print(\n",
    "    'Methods:\\n\\\n",
    "    cargo space: {0}\\n\\\n",
    "    can build on that title: {1}\\n\\\n",
    "    can act: {2}\\n\\\n",
    "    transfer to chosen direction action: {3}\\n\\\n",
    "    build city action: {4}\\n\\\n",
    "    pillage action: {5}\\n\\\n",
    "    The actions performeds if it possible'.format(\n",
    "        unit.get_cargo_space_left(),\n",
    "        unit.can_build(game_state.map),\n",
    "        unit.can_act(),\n",
    "        unit.move(Constants.DIRECTIONS.NORTH),\n",
    "        unit.build_city(),\n",
    "        unit.pillage(),\n",
    "        )\n",
    "    )"
   ]
  },
  {
   "cell_type": "markdown",
   "metadata": {},
   "source": [
    "## Player\n",
    "\n",
    "This contains information on a particular player of a particular team.\n",
    "\n",
    "Properties:\n",
    "\n",
    "- team: int - the team id of this player\n",
    "- research_points: int - the current total number of research points the player's team has\n",
    "- units: list[Unit] - a list of every Unit owned by this player's team.\n",
    "\n",
    "- cities: Dict[str, City] - a dictionary / map mapping City id to each separate City owned by this player's team. To get the individual CityTiles, you will need to access the citytiles property of the City.\n",
    "\n",
    "Methods:\n",
    "\n",
    "- researched_coal() - bool - whether or not this player's team has researched coal and can mine coal.\n",
    "- researched_uranium() - bool - whether or not this player's team has researched uranium and can mine uranium."
   ]
  },
  {
   "cell_type": "code",
   "execution_count": 40,
   "metadata": {},
   "outputs": [
    {
     "name": "stdout",
     "output_type": "stream",
     "text": [
      "Player properties: \n",
      "    team: 0\n",
      "    research_points: 0\n",
      "    list of unit objects: [<lux.game_objects.Unit object at 0x7f1ca9194ca0>]\n",
      "    dict of cities objects with id-s as keys: {'c_1': <lux.game_objects.City object at 0x7f1ca920a6a0>}\n"
     ]
    }
   ],
   "source": [
    "print(\n",
    "    'Player properties: \\n\\\n",
    "    team: {}\\n\\\n",
    "    research_points: {}\\n\\\n",
    "    list of unit objects: {}\\n\\\n",
    "    dict of cities objects with id-s as keys: {}'.format(\n",
    "        player.team,\n",
    "        player.research_points,\n",
    "        player.units,\n",
    "        player.cities,\n",
    "    )\n",
    ")"
   ]
  },
  {
   "cell_type": "code",
   "execution_count": 41,
   "metadata": {},
   "outputs": [
    {
     "name": "stdout",
     "output_type": "stream",
     "text": [
      "Player methods:\n",
      "    is coal researched: False\n",
      "    is uranium researched: False\n"
     ]
    }
   ],
   "source": [
    "print(\n",
    "    'Player methods:\\n\\\n",
    "    is coal researched: {}\\n\\\n",
    "    is uranium researched: {}'.format(\n",
    "        player.researched_coal(),\n",
    "        player.researched_uranium()\n",
    "        )\n",
    "    )"
   ]
  },
  {
   "cell_type": "markdown",
   "metadata": {},
   "source": [
    "## Methods\n",
    "\n",
    "- circle(x: int, y: int) -> str - returns the draw circle annotation action. Will draw a unit sized circle on the visualizer at the current turn centered at the Cell at the given x, y coordinates\n",
    "- x(x: int, y: int) -> str - returns the draw X annotation action. Will draw a unit sized X on the visualizer at the current turn centered at the Cell at the given x, y coordinates\n",
    "- line(x1: int, y1: int, x2: int, y2: int) -> str - returns the draw line annotation action. Will draw a line from the center of the Cell at (x1, y1) to the center of the Cell at (x2, y2)\n",
    "- text(x: int, y: int, message: str, fontsize: int = 16) -> str: - returns the draw text annotation action. Will write text on top of the tile at (x, y) with the particular message and fontsize\n",
    "\n",
    "sidetext(message: str) -> str: - returns the draw side text annotation action. Will write text that is displayed on that turn on the side of the visualizer\n",
    "\n",
    "Note that all of these will be colored according to the team that created the annotation (blue or orange)"
   ]
  },
  {
   "cell_type": "code",
   "execution_count": 42,
   "metadata": {
    "execution": {
     "iopub.execute_input": "2021-09-05T22:32:40.557829Z",
     "iopub.status.busy": "2021-09-05T22:32:40.557511Z",
     "iopub.status.idle": "2021-09-05T22:32:40.578978Z",
     "shell.execute_reply": "2021-09-05T22:32:40.578212Z",
     "shell.execute_reply.started": "2021-09-05T22:32:40.557798Z"
    }
   },
   "outputs": [
    {
     "name": "stdout",
     "output_type": "stream",
     "text": [
      "Cell at (8, 0) has\n",
      "coal 369\n"
     ]
    }
   ],
   "source": [
    "# lets look at some of the resources found\n",
    "resource_tiles = find_resources(game_state)\n",
    "cell = resource_tiles[0]\n",
    "print(\"Cell at\", cell.pos, \"has\")\n",
    "print(cell.resource.type, cell.resource.amount)"
   ]
  },
  {
   "cell_type": "code",
   "execution_count": 43,
   "metadata": {
    "execution": {
     "iopub.execute_input": "2021-09-05T22:32:40.580642Z",
     "iopub.status.busy": "2021-09-05T22:32:40.580206Z",
     "iopub.status.idle": "2021-09-05T22:32:40.59297Z",
     "shell.execute_reply": "2021-09-05T22:32:40.591829Z",
     "shell.execute_reply.started": "2021-09-05T22:32:40.580597Z"
    }
   },
   "outputs": [
    {
     "name": "stdout",
     "output_type": "stream",
     "text": [
      "Closest resource at (4, 10) has\n",
      "wood 500\n"
     ]
    }
   ],
   "source": [
    "# lets see if we do find some close resources\n",
    "cell = find_closest_resources(Position(1, 1), game_state.players[0], resource_tiles)\n",
    "print(\"Closest resource at\", cell.pos, \"has\")\n",
    "print(cell.resource.type, cell.resource.amount)"
   ]
  },
  {
   "cell_type": "markdown",
   "metadata": {},
   "source": [
    "# Full data for Submission"
   ]
  },
  {
   "cell_type": "code",
   "execution_count": null,
   "metadata": {
    "execution": {
     "iopub.status.busy": "2021-09-05T22:32:12.351799Z",
     "iopub.status.idle": "2021-09-05T22:32:12.352278Z"
    }
   },
   "outputs": [],
   "source": [
    "%%writefile agent.py\n",
    "# for kaggle-environments\n",
    "from lux.game import Game\n",
    "from lux.game_map import Cell, RESOURCE_TYPES\n",
    "from lux.constants import Constants\n",
    "from lux.game_constants import GAME_CONSTANTS\n",
    "from lux import annotate\n",
    "import math\n",
    "import sys\n",
    "\n",
    "### Define helper functions\n",
    "\n",
    "# this snippet finds all resources stored on the map and puts them into a list so we can search over them\n",
    "def find_resources(game_state):\n",
    "    resource_tiles: list[Cell] = []\n",
    "    width, height = game_state.map_width, game_state.map_height\n",
    "    for y in range(height):\n",
    "        for x in range(width):\n",
    "            cell = game_state.map.get_cell(x, y)\n",
    "            if cell.has_resource():\n",
    "                resource_tiles.append(cell)\n",
    "    return resource_tiles\n",
    "\n",
    "# the next snippet finds the closest resources that we can mine given position on a map\n",
    "def find_closest_resources(pos, player, resource_tiles):\n",
    "    closest_dist = math.inf\n",
    "    closest_resource_tile = None\n",
    "    for resource_tile in resource_tiles:\n",
    "        # we skip over resources that we can't mine due to not having researched them\n",
    "        if resource_tile.resource.type == Constants.RESOURCE_TYPES.COAL and not player.researched_coal(): continue\n",
    "        if resource_tile.resource.type == Constants.RESOURCE_TYPES.URANIUM and not player.researched_uranium(): continue\n",
    "        dist = resource_tile.pos.distance_to(pos)\n",
    "        if dist < closest_dist:\n",
    "            closest_dist = dist\n",
    "            closest_resource_tile = resource_tile\n",
    "    return closest_resource_tile\n",
    "\n",
    "def find_closest_city_tile(pos, player):\n",
    "    closest_city_tile = None\n",
    "    if len(player.cities) > 0:\n",
    "        closest_dist = math.inf\n",
    "        # the cities are stored as a dictionary mapping city id to the city object, which has a citytiles field that\n",
    "        # contains the information of all citytiles in that city\n",
    "        for k, city in player.cities.items():\n",
    "            for city_tile in city.citytiles:\n",
    "                dist = city_tile.pos.distance_to(pos)\n",
    "                if dist < closest_dist:\n",
    "                    closest_dist = dist\n",
    "                    closest_city_tile = city_tile\n",
    "    return closest_city_tile\n",
    "\n",
    "game_state = None\n",
    "def agent(observation, configuration):\n",
    "    global game_state\n",
    "\n",
    "    ### Do not edit ###\n",
    "    if observation[\"step\"] == 0:\n",
    "        game_state = Game()\n",
    "        game_state._initialize(observation[\"updates\"])\n",
    "        game_state._update(observation[\"updates\"][2:])\n",
    "        game_state.id = observation.player\n",
    "    else:\n",
    "        game_state._update(observation[\"updates\"])\n",
    "    \n",
    "    actions = []\n",
    "\n",
    "    ### AI Code goes down here! ### \n",
    "    player = game_state.players[observation.player]\n",
    "    opponent = game_state.players[(observation.player + 1) % 2]\n",
    "    width, height = game_state.map.width, game_state.map.height\n",
    "\n",
    "    resource_tiles = find_resources(game_state)\n",
    "    \n",
    "    for unit in player.units:\n",
    "        # if the unit is a worker (can mine resources) and can perform an action this turn\n",
    "        if unit.is_worker() and unit.can_act():\n",
    "            # we want to mine only if there is space left in the worker's cargo\n",
    "            if unit.get_cargo_space_left() > 0:\n",
    "                # find the closest resource if it exists to this unit\n",
    "                closest_resource_tile = find_closest_resources(unit.pos, player, resource_tiles)\n",
    "                if closest_resource_tile is not None:\n",
    "                    # create a move action to move this unit in the direction of the closest resource tile and add to our actions list\n",
    "                    action = unit.move(unit.pos.direction_to(closest_resource_tile.pos))\n",
    "                    actions.append(action)\n",
    "            else:\n",
    "                # find the closest citytile and move the unit towards it to drop resources to a citytile to fuel the city\n",
    "                closest_city_tile = find_closest_city_tile(unit.pos, player)\n",
    "                if closest_city_tile is not None:\n",
    "                    # create a move action to move this unit in the direction of the closest resource tile and add to our actions list\n",
    "                    action = unit.move(unit.pos.direction_to(closest_city_tile.pos))\n",
    "                    actions.append(action)\n",
    "    \n",
    "    return actions"
   ]
  },
  {
   "cell_type": "code",
   "execution_count": null,
   "metadata": {
    "execution": {
     "iopub.status.busy": "2021-09-05T22:32:12.355569Z",
     "iopub.status.idle": "2021-09-05T22:32:12.356043Z"
    }
   },
   "outputs": [],
   "source": [
    "replay = env.toJSON()\n",
    "with open(\"replays/replay.json\", \"w\") as f:\n",
    "    json.dump(replay, f)"
   ]
  },
  {
   "cell_type": "markdown",
   "metadata": {},
   "source": [
    "## Create a submission"
   ]
  },
  {
   "cell_type": "code",
   "execution_count": null,
   "metadata": {
    "execution": {
     "iopub.status.busy": "2021-09-05T22:32:12.353641Z",
     "iopub.status.idle": "2021-09-05T22:32:12.354102Z"
    }
   },
   "outputs": [],
   "source": [
    "!sh make_sub.sh"
   ]
  },
  {
   "cell_type": "markdown",
   "metadata": {},
   "source": [
    "## Submit"
   ]
  },
  {
   "cell_type": "code",
   "execution_count": null,
   "metadata": {},
   "outputs": [],
   "source": [
    "!kaggle competitions submit -c lux-ai-2021 -f submission.py -m \"submission\""
   ]
  },
  {
   "cell_type": "markdown",
   "metadata": {},
   "source": [
    "## Suggestions / Strategies\n",
    "\n",
    "There are a lot of places that could be improved with the agent we have in this tutorial notebook. Here are some!\n",
    "\n",
    "- Using the build city action to build new cities and thus build new units\n",
    "- Having cities perform research each turn to unlock new resources\n",
    "- Writing collision-free code that lets units move smoothly around and through each other when navigating to targets\n",
    "- Mining resources near your opponent's citytiles so they have less easy access to resources\n",
    "- Using carts to deliver resources from far away clusters of wood, coal, uranium to a city in need\n",
    "- Sending worker units over to the opponent's roads and pillaging them to slow down their agent\n",
    "- Optimizing over how much to mine out of forests before letting them regrow so you can build more cities and get sustainable fuel"
   ]
  },
  {
   "cell_type": "code",
   "execution_count": 3,
   "metadata": {},
   "outputs": [],
   "source": [
    "import pandas as pd"
   ]
  },
  {
   "cell_type": "code",
   "execution_count": null,
   "metadata": {},
   "outputs": [],
   "source": []
  }
 ],
 "metadata": {
  "kernelspec": {
   "display_name": "Python 3 (ipykernel)",
   "language": "python",
   "name": "python3"
  },
  "language_info": {
   "codemirror_mode": {
    "name": "ipython",
    "version": 3
   },
   "file_extension": ".py",
   "mimetype": "text/x-python",
   "name": "python",
   "nbconvert_exporter": "python",
   "pygments_lexer": "ipython3",
   "version": "3.8.6"
  },
  "nbTranslate": {
   "displayLangs": [
    "ru",
    "en"
   ],
   "hotkey": "alt-t",
   "langInMainMenu": true,
   "sourceLang": "en",
   "targetLang": "ru",
   "useGoogleTranslate": true
  }
 },
 "nbformat": 4,
 "nbformat_minor": 4
}
