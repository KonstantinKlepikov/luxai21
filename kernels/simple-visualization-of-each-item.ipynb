{
 "cells": [
  {
   "cell_type": "markdown",
   "metadata": {},
   "source": [
    "# Simple visualization of each item\n",
    "\n",
    "This notebook is a simple visualization of each item.\n",
    "\n",
    "It may be useful for grasping the whole.\n",
    "\n",
    "![img1_1](https://raw.githubusercontent.com/Lux-AI-Challenge/Lux-Design-2021/master/assets/game_board.png)"
   ]
  },
  {
   "cell_type": "code",
   "execution_count": null,
   "metadata": {
    "_cell_guid": "b1076dfc-b9ad-4769-8c92-a6c4dae69d19",
    "_kg_hide-input": true,
    "_kg_hide-output": true,
    "_uuid": "8f2839f25d086af736a60e9eeb907d3b93b6e0e5",
    "execution": {
     "iopub.execute_input": "2021-08-26T13:01:31.752467Z",
     "iopub.status.busy": "2021-08-26T13:01:31.751832Z",
     "iopub.status.idle": "2021-08-26T13:01:42.271515Z",
     "shell.execute_reply": "2021-08-26T13:01:42.270207Z",
     "shell.execute_reply.started": "2021-08-26T13:01:31.752375Z"
    }
   },
   "outputs": [],
   "source": [
    "!pip install kaggle-environments -U -q\n",
    "!cp -r ../input/lux-ai-2021/* ."
   ]
  },
  {
   "cell_type": "code",
   "execution_count": null,
   "metadata": {
    "_kg_hide-input": true,
    "_kg_hide-output": true,
    "execution": {
     "iopub.execute_input": "2021-08-26T13:01:42.273723Z",
     "iopub.status.busy": "2021-08-26T13:01:42.273389Z",
     "iopub.status.idle": "2021-08-26T13:01:42.423111Z",
     "shell.execute_reply": "2021-08-26T13:01:42.421773Z",
     "shell.execute_reply.started": "2021-08-26T13:01:42.273688Z"
    }
   },
   "outputs": [],
   "source": [
    "# copied from https://www.kaggle.com/ilialar/lux-ai-risk-averse-baseline\n",
    "# %%writefile agent.py\n",
    "from lux.game import Game\n",
    "from lux.game_map import Cell, RESOURCE_TYPES, Position\n",
    "from lux.constants import Constants\n",
    "from lux.game_constants import GAME_CONSTANTS\n",
    "from lux import annotate\n",
    "import math\n",
    "import numpy as np\n",
    "\n",
    "### Define helper functions\n",
    "\n",
    "# this snippet finds all resources stored on the map and puts them into a list so we can search over them\n",
    "def find_resources(game_state):\n",
    "    resource_tiles: list[Cell] = []\n",
    "    width, height = game_state.map_width, game_state.map_height\n",
    "    for y in range(height):\n",
    "        for x in range(width):\n",
    "            cell = game_state.map.get_cell(x, y)\n",
    "            if cell.has_resource():\n",
    "                resource_tiles.append(cell)\n",
    "    return resource_tiles\n",
    "\n",
    "# the next snippet finds the closest resources that we can mine given position on a map\n",
    "def find_closest_resources(pos, player, resource_tiles):\n",
    "    closest_dist = math.inf\n",
    "    closest_resource_tile = None\n",
    "    for resource_tile in resource_tiles:\n",
    "        # we skip over resources that we can't mine due to not having researched them\n",
    "        if resource_tile.resource.type == Constants.RESOURCE_TYPES.COAL and not player.researched_coal(): continue\n",
    "        if resource_tile.resource.type == Constants.RESOURCE_TYPES.URANIUM and not player.researched_uranium(): continue\n",
    "        dist = resource_tile.pos.distance_to(pos)\n",
    "        if dist < closest_dist:\n",
    "            closest_dist = dist\n",
    "            closest_resource_tile = resource_tile\n",
    "    return closest_resource_tile, closest_dist\n",
    "\n",
    "def find_closest_city_tile(pos, player):\n",
    "    closest_city_tile = None\n",
    "    closest_dist = math.inf\n",
    "    if len(player.cities) > 0:\n",
    "        # the cities are stored as a dictionary mapping city id to the city object, which has a citytiles field that\n",
    "        # contains the information of all citytiles in that city\n",
    "        for k, city in player.cities.items():\n",
    "            for city_tile in city.citytiles:\n",
    "                dist = city_tile.pos.distance_to(pos)\n",
    "                if dist < closest_dist:\n",
    "                    closest_dist = dist\n",
    "                    closest_city_tile = city_tile\n",
    "    return closest_city_tile, closest_dist\n",
    "\n",
    "game_state = None\n",
    "\n",
    "def get_random_step():\n",
    "    return np.random.choice(['s','n','w','e'])\n",
    "\n",
    "\n",
    "def agent(observation, configuration):\n",
    "    global game_state\n",
    "\n",
    "    ### Do not edit ###\n",
    "    if observation[\"step\"] == 0:\n",
    "        game_state = Game()\n",
    "        game_state._initialize(observation[\"updates\"])\n",
    "        game_state._update(observation[\"updates\"][2:])\n",
    "        game_state.id = observation.player\n",
    "    else:\n",
    "        game_state._update(observation[\"updates\"])\n",
    "    \n",
    "    actions = []\n",
    "\n",
    "    ### AI Code goes down here! ### \n",
    "    player = game_state.players[observation.player]\n",
    "    opponent = game_state.players[(observation.player + 1) % 2]\n",
    "    width, height = game_state.map.width, game_state.map.height\n",
    "\n",
    "    resource_tiles = find_resources(game_state)\n",
    "        \n",
    "    # max number of units available\n",
    "    units_cap = sum([len(x.citytiles) for x in player.cities.values()])\n",
    "    # current number of units\n",
    "    units  = len(player.units)\n",
    "    \n",
    "    cities = list(player.cities.values())\n",
    "    if len(cities) > 0:\n",
    "        city = cities[0]\n",
    "        created_worker = (units >= units_cap)\n",
    "        for city_tile in city.citytiles[::-1]:\n",
    "            if city_tile.can_act():\n",
    "                if created_worker:\n",
    "                    # let's do research\n",
    "                    action = city_tile.research()\n",
    "                    actions.append(action)\n",
    "                else:\n",
    "                    # let's create one more unit in the last created city tile if we can\n",
    "                    action = city_tile.build_worker()\n",
    "                    actions.append(action)\n",
    "                    created_worker = True\n",
    "    \n",
    "    \n",
    "    # we want to build new tiless only if we have a lot of fuel in all cities\n",
    "    can_build = True\n",
    "    night_steps_left = ((359 - observation[\"step\"]) // 40 + 1) * 10\n",
    "    for city in player.cities.values():            \n",
    "        if city.fuel / (city.get_light_upkeep() + 20) < min(night_steps_left, 30):\n",
    "            can_build = False\n",
    "       \n",
    "    steps_until_night = 30 - observation[\"step\"] % 40\n",
    "    \n",
    "    \n",
    "    # we will keet all tiles where any unit wants to move in this set to avoid collisions\n",
    "    taken_tiles = set()\n",
    "    for unit in player.units:\n",
    "        # it is too strict but we don't allow to go to the the currently occupied tile\n",
    "        taken_tiles.add((unit.pos.x, unit.pos.y))\n",
    "        \n",
    "    for city in opponent.cities.values():\n",
    "        for city_tile in city.citytiles:\n",
    "            taken_tiles.add((city_tile.pos.x, city_tile.pos.y))\n",
    "    \n",
    "    # we can collide in cities so we will use this tiles as exceptions\n",
    "    city_tiles = {(tile.pos.x, tile.pos.y) for city in player.cities.values() for tile in city.citytiles}\n",
    "    \n",
    "    \n",
    "    for unit in player.units:\n",
    "        if unit.can_act():\n",
    "            closest_resource_tile, closest_resource_dist = find_closest_resources(unit.pos, player, resource_tiles)\n",
    "            closest_city_tile, closest_city_dist = find_closest_city_tile(unit.pos, player)\n",
    "            \n",
    "            # we will keep possible actions in a priority order here\n",
    "            directions = []\n",
    "            \n",
    "            # if we can build and we are near the city let's do it\n",
    "            if unit.is_worker() and unit.can_build(game_state.map) and ((closest_city_dist == 1 and can_build) or (closest_city_dist is None)):\n",
    "                # build a new cityTile\n",
    "                action = unit.build_city()\n",
    "                actions.append(action)  \n",
    "                can_build = False\n",
    "                continue\n",
    "            \n",
    "            # base cooldown for different units types\n",
    "            base_cd = 2 if unit.is_worker() else 3\n",
    "            \n",
    "            # how many steps the unit needs to get back to the city before night (without roads)\n",
    "            steps_to_city = unit.cooldown + base_cd * closest_city_dist\n",
    "            \n",
    "            # if we are far from the city in the evening or just full let's go home\n",
    "            if (steps_to_city + 3 > steps_until_night or unit.get_cargo_space_left() == 0) and closest_city_tile is not None:\n",
    "                actions.append(annotate.line(unit.pos.x, unit.pos.y, closest_city_tile.pos.x, closest_city_tile.pos.y))\n",
    "                directions = [unit.pos.direction_to(closest_city_tile.pos)]\n",
    "            else:\n",
    "                # if there is no risks and we are not mining resources right now let's move toward resources\n",
    "                if closest_resource_dist != 0 and closest_resource_tile is not None:\n",
    "                    actions.append(annotate.line(unit.pos.x, unit.pos.y, closest_resource_tile.pos.x, closest_resource_tile.pos.y))\n",
    "                    directions = [unit.pos.direction_to(closest_resource_tile.pos)]\n",
    "                    # optionally we can add random steps\n",
    "                    for _ in range(2):\n",
    "                        directions.append(get_random_step())\n",
    "\n",
    "            moved = False\n",
    "            for next_step_direction in directions:\n",
    "                next_step_position = unit.pos.translate(next_step_direction, 1)\n",
    "                next_step_coordinates = (next_step_position.x, next_step_position.y)\n",
    "                # make only moves without collision\n",
    "                if next_step_coordinates not in taken_tiles or next_step_coordinates in city_tiles:\n",
    "                    action = unit.move(next_step_direction)\n",
    "                    actions.append(action)\n",
    "                    taken_tiles.add(next_step_coordinates)\n",
    "                    moved = True\n",
    "                    break\n",
    "            \n",
    "            if not moved:\n",
    "                # if we are not moving the tile is occupied\n",
    "                taken_tiles.add((unit.pos.x,unit.pos.y))\n",
    "    return actions"
   ]
  },
  {
   "cell_type": "code",
   "execution_count": null,
   "metadata": {
    "execution": {
     "iopub.execute_input": "2021-08-26T13:01:42.426495Z",
     "iopub.status.busy": "2021-08-26T13:01:42.42589Z",
     "iopub.status.idle": "2021-08-26T13:01:49.225187Z",
     "shell.execute_reply": "2021-08-26T13:01:49.224229Z",
     "shell.execute_reply.started": "2021-08-26T13:01:42.426444Z"
    }
   },
   "outputs": [],
   "source": [
    "from kaggle_environments import make\n",
    "import numpy as np\n",
    "import pandas as pd\n",
    "import matplotlib.pyplot as plt\n",
    "import seaborn as sns\n",
    "env = make(\"lux_ai_2021\", configuration={\"loglevel\": 0}, debug=True)\n",
    "steps = env.run([agent, \"simple_agent\"])\n",
    "\n",
    "steps_lst = []\n",
    "for steps_players in steps:\n",
    "    for i in steps_players:\n",
    "        steps_lst.append(pd.io.json.json_normalize(i))\n",
    "\n",
    "steps_df = pd.concat(steps_lst).reset_index(drop=True)\n",
    "player_steps_df = steps_df.loc[steps_df['observation.step'].notnull()]\n",
    "opp_steps_df = steps_df.loc[steps_df['observation.step'].isnull()]\n",
    "\n",
    "plt.plot(player_steps_df['observation.reward'])\n",
    "plt.plot(opp_steps_df['observation.reward'])\n",
    "plt.title('reward timeline')\n",
    "plt.legend(['player','opponent'])"
   ]
  },
  {
   "cell_type": "markdown",
   "metadata": {},
   "source": [
    "~~# Observe the specified step~~"
   ]
  },
  {
   "cell_type": "code",
   "execution_count": null,
   "metadata": {
    "execution": {
     "iopub.execute_input": "2021-08-26T13:01:49.227147Z",
     "iopub.status.busy": "2021-08-26T13:01:49.226824Z",
     "iopub.status.idle": "2021-08-26T13:01:49.41722Z",
     "shell.execute_reply": "2021-08-26T13:01:49.416157Z",
     "shell.execute_reply.started": "2021-08-26T13:01:49.227108Z"
    }
   },
   "outputs": [],
   "source": [
    "# obs_step = 300#200\n",
    "# player_actions = player_steps_df.action.tolist()[1:]\n",
    "# opp_actions = opp_steps_df.action.tolist()[1:]\n",
    "# env.reset()\n",
    "# for i in range(obs_step):\n",
    "#     steps = env.step([player_actions[i], opp_actions[i]])    \n",
    "env.render(mode=\"ipython\", width=900, height=600)"
   ]
  },
  {
   "cell_type": "code",
   "execution_count": null,
   "metadata": {
    "execution": {
     "iopub.execute_input": "2021-08-26T13:01:49.418913Z",
     "iopub.status.busy": "2021-08-26T13:01:49.41861Z",
     "iopub.status.idle": "2021-08-26T13:01:49.458488Z",
     "shell.execute_reply": "2021-08-26T13:01:49.45726Z",
     "shell.execute_reply.started": "2021-08-26T13:01:49.418885Z"
    }
   },
   "outputs": [],
   "source": [
    "player_id = 0\n",
    "player = game_state.players[player_id]\n",
    "opponent = game_state.players[(player_id + 1) % 2]\n",
    "\n",
    "bd = game_state.map.map\n",
    "\n",
    "resource_maps ={'wood':1,\n",
    "                'coal':2,\n",
    "                'uranium':3}\n",
    "\n",
    "height, width = game_state.map_height, game_state.map_width \n",
    "bd_res_type = np.zeros([height, width],np.int8)\n",
    "bd_wood = np.zeros([height, width],np.int16)\n",
    "bd_coal = np.zeros([height, width],np.int16)\n",
    "bd_uranium = np.zeros([height, width],np.int16)\n",
    "bd_res_amount = np.zeros([height, width],np.int16)\n",
    "bd_cityid = np.full([height, width],-1, np.int8)\n",
    "bd_city_cooldown = np.full([height, width], -1, np.int8)\n",
    "bd_city_can_act =  np.full([height, width],-1, np.int8)\n",
    "bd_city =  np.full([height, width], -1, np.int8)\n",
    "bd_road = np.full([height, width], -1, np.float32)#upgrade per 0.5\n",
    "#bd_city_fuel = np.full([height, width], -1, np.float32)\n",
    "#bd_city_light_upkeep = np.full([height, width], -1, np.float32)\n",
    "\n",
    "bd_unit = np.full([height, width],-1, np.int8)\n",
    "\n",
    "for y in range(height):\n",
    "    for x in range(width):\n",
    "        if bd[y][x].has_resource():\n",
    "            bd_res_type[y][x] = resource_maps[bd[y][x].resource.type]\n",
    "            bd_res_amount[y][x] = bd[y][x].resource.amount\n",
    "            if bd[y][x].resource.type=='wood':\n",
    "                bd_wood[y][x] = bd[y][x].resource.amount\n",
    "            elif bd[y][x].resource.type=='coal':\n",
    "                bd_coal[y][x] = bd[y][x].resource.amount\n",
    "            elif bd[y][x].resource.type=='uranium':\n",
    "                bd_uranium[y][x] = bd[y][x].resource.amount\n",
    "\n",
    "                \n",
    "        if bd[y][x].citytile is not None:\n",
    "            bd_cityid[y][x] = int(bd[y][x].citytile.cityid.split('_')[-1])#bd[y][x]citytile.cityid#\n",
    "            bd_city_cooldown[y][x] = bd[y][x].citytile.cooldown\n",
    "            bd_city_can_act[y][x] = bd[y][x].citytile.can_act()\n",
    "            bd_city[y][x] = bd[y][x].citytile.team\n",
    "            #try:\n",
    "            #    city = player.cities[bd[y][x].citytile.cityid]\n",
    "            #except:\n",
    "            #    city = opponent.cities[bd[y][x].citytile.cityid]\n",
    "            #bd_city_fuel[y][x] = city.fuel\n",
    "            #bd_city_light_upkeep[y][x] = city.light_upkeep\n",
    "        bd_road[y][x]= bd[y][x].road\n",
    "        \n",
    "for unit in player.units:\n",
    "    bd_unit[unit.pos.y][unit.pos.x] = 0\n",
    "for unit in opponent.units:\n",
    "    bd_unit[unit.pos.y][unit.pos.x] = 1\n",
    "    \n",
    "    \n",
    "lst = []\n",
    "for unit in player.units+opponent.units:\n",
    "    lst.append(\n",
    "        [unit.id,\n",
    "         unit.team,\n",
    "         unit.pos.x,\n",
    "         unit.pos.y,\n",
    "         'worker' if unit.is_worker() else 'cart',\n",
    "         unit.cooldown,\n",
    "         unit.cargo.wood,\n",
    "         unit.cargo.coal,\n",
    "         unit.cargo.uranium,\n",
    "         unit.get_cargo_space_left(),\n",
    "         unit.can_act(),\n",
    "        ]\n",
    "    )\n",
    "    \n",
    "unit_df = pd.DataFrame(lst)\n",
    "unit_df.columns = ['id','team','pos_x','pos_y','type','cooldown',\n",
    "                   'cargo.wood','cargo.coal','cargo.uranium',\n",
    "                  'cargo_space_left','can_act']\n",
    "\n",
    "lst = []\n",
    "cities = dict(player.cities, **opponent.cities)\n",
    "for city_id in cities.keys():\n",
    "    lst.append(\n",
    "        [cities[city_id].cityid,\n",
    "         cities[city_id].team,\n",
    "         cities[city_id].fuel, \n",
    "         cities[city_id].get_light_upkeep(),])\n",
    "    \n",
    "city_df = pd.DataFrame(lst, columns=['cityid','team','fuel','light_upkeep'])\n",
    "\n",
    "\n",
    "\n",
    "lst = []\n",
    "resource_tiles = find_resources(game_state)\n",
    "for cell in resource_tiles:\n",
    "    lst.append([\n",
    "        cell.resource.type, \n",
    "        cell.resource.amount,\n",
    "        cell.pos.x,\n",
    "        cell.pos.y,\n",
    "        ])\n",
    "\n",
    "resource_tiles_df = pd.DataFrame(lst)\n",
    "resource_tiles_df.columns = ['type','amount','pos_x','pos_y',]\n",
    "\n",
    "lst = []\n",
    "for team in [player, opponent]:\n",
    "    lst.append(\n",
    "        [team.team,\n",
    "         team.city_tile_count,\n",
    "         len(team.units),\n",
    "         team.research_points,\n",
    "         team.researched_coal(),\n",
    "         team.researched_uranium(),\n",
    "        ])\n",
    "    \n",
    "team_df = pd.DataFrame(lst, \n",
    "                       columns = ['team','city_tile_count', 'city_unit_count',\n",
    "                                  'research_points','researched_coal','researched_uranium'])\n",
    "\n",
    "lst = []\n",
    "cities = dict(player.cities, **opponent.cities)\n",
    "for city_id in cities.keys():\n",
    "    for citytile in cities[city_id].citytiles:\n",
    "        lst.append(\n",
    "            [citytile.cityid,\n",
    "             citytile.team,\n",
    "             citytile.pos.x,\n",
    "             citytile.pos.y,\n",
    "             citytile.cooldown,\n",
    "             citytile.can_act()])\n",
    "citytile_df = pd.DataFrame(lst, columns=['cityid','team','pos_x','pos_y','cooldown','can_act'])"
   ]
  },
  {
   "cell_type": "code",
   "execution_count": null,
   "metadata": {
    "execution": {
     "iopub.execute_input": "2021-08-26T13:01:49.46025Z",
     "iopub.status.busy": "2021-08-26T13:01:49.459911Z",
     "iopub.status.idle": "2021-08-26T13:01:50.201148Z",
     "shell.execute_reply": "2021-08-26T13:01:50.199859Z",
     "shell.execute_reply.started": "2021-08-26T13:01:49.460218Z"
    }
   },
   "outputs": [],
   "source": [
    "!mkdir ./templates -p"
   ]
  },
  {
   "cell_type": "code",
   "execution_count": null,
   "metadata": {
    "execution": {
     "iopub.execute_input": "2021-08-26T13:01:50.203054Z",
     "iopub.status.busy": "2021-08-26T13:01:50.20273Z",
     "iopub.status.idle": "2021-08-26T13:01:50.210536Z",
     "shell.execute_reply": "2021-08-26T13:01:50.209312Z",
     "shell.execute_reply.started": "2021-08-26T13:01:50.203022Z"
    }
   },
   "outputs": [],
   "source": [
    "%%file templates/luxhtml.tpl\n",
    "\n",
    "{% extends \"html.tpl\" %}\n",
    "{% block table %}\n",
    "<h1 class='table_title' style=\"background-color:#e7e7e7; text-align: center\">{{ table_title|default(\"\")}}</h1>\n",
    "{{ super() }}\n",
    "{% endblock table %}"
   ]
  },
  {
   "cell_type": "code",
   "execution_count": null,
   "metadata": {
    "execution": {
     "iopub.execute_input": "2021-08-26T13:01:50.214251Z",
     "iopub.status.busy": "2021-08-26T13:01:50.213837Z",
     "iopub.status.idle": "2021-08-26T13:01:50.26423Z",
     "shell.execute_reply": "2021-08-26T13:01:50.263201Z",
     "shell.execute_reply.started": "2021-08-26T13:01:50.214218Z"
    }
   },
   "outputs": [],
   "source": [
    "# https://pandas.pydata.org/pandas-docs/version/0.23/style.html\n",
    "from jinja2 import Environment, ChoiceLoader, FileSystemLoader\n",
    "from pandas.io.formats.style import Styler\n",
    "from IPython.display import display, HTML\n",
    "pd.options.display.max_columns = 32\n",
    "class LuxStyler(Styler):\n",
    "    env = Environment(\n",
    "        loader=ChoiceLoader([\n",
    "            FileSystemLoader(\"templates\"),  # contains ours\n",
    "            Styler.loader,  # the default\n",
    "        ])\n",
    "    )\n",
    "    template = env.get_template(\"luxhtml.tpl\")\n",
    "\n",
    "def visualize(bd, title, default_value=-1):\n",
    "    df = pd.DataFrame(bd).astype(str).replace(str(default_value),'')\n",
    "    df.columns = [f'x_{s}' for s in df.columns]\n",
    "    df.index = [f'y_{s}' for s in df.index]\n",
    "    #display(df.astype(str).replace(str(default_value),'').style.set_caption(title))\n",
    "    return LuxStyler(df).render(table_title=title)\n",
    "\n",
    "def visualize_res_type(bd, title, default_value=-1):\n",
    "    inv_resource_maps = {1:'w',2:'c',3:'u'}\n",
    "    df = (pd.DataFrame(bd).replace(inv_resource_maps).astype(str)\n",
    "                          .replace(str(default_value),'')\n",
    "                          .replace({str(default_value),''}))\n",
    "    df.columns = [f'x_{s}' for s in df.columns]\n",
    "    df.index = [f'y_{s}' for s in df.index]\n",
    "    return LuxStyler(df).render(table_title=title)\n",
    "\n",
    "def visualize_cityid(bd, title):\n",
    "    df = pd.DataFrame(bd_cityid).astype(str).applymap(lambda s:f'c_{s}').replace('c_-1','')\n",
    "    df.columns = [f'x_{s}' for s in df.columns]\n",
    "    df.index = [f'y_{s}' for s in df.index]\n",
    "    return LuxStyler(df).render(table_title=title)\n"
   ]
  },
  {
   "cell_type": "markdown",
   "metadata": {},
   "source": [
    "# Road Level"
   ]
  },
  {
   "cell_type": "code",
   "execution_count": null,
   "metadata": {
    "execution": {
     "iopub.execute_input": "2021-08-26T13:01:50.267311Z",
     "iopub.status.busy": "2021-08-26T13:01:50.266819Z",
     "iopub.status.idle": "2021-08-26T13:01:50.32088Z",
     "shell.execute_reply": "2021-08-26T13:01:50.319636Z",
     "shell.execute_reply.started": "2021-08-26T13:01:50.267264Z"
    }
   },
   "outputs": [],
   "source": [
    "HTML(visualize(bd_road, 'Road Level', default_value=0.))"
   ]
  },
  {
   "cell_type": "markdown",
   "metadata": {},
   "source": [
    "# CityTiles info"
   ]
  },
  {
   "cell_type": "code",
   "execution_count": null,
   "metadata": {
    "execution": {
     "iopub.execute_input": "2021-08-26T13:01:50.322673Z",
     "iopub.status.busy": "2021-08-26T13:01:50.322253Z",
     "iopub.status.idle": "2021-08-26T13:01:50.352992Z",
     "shell.execute_reply": "2021-08-26T13:01:50.35218Z",
     "shell.execute_reply.started": "2021-08-26T13:01:50.32263Z"
    }
   },
   "outputs": [],
   "source": [
    "HTML(visualize(bd_city_cooldown, 'CityTile Cooldown'))"
   ]
  },
  {
   "cell_type": "code",
   "execution_count": null,
   "metadata": {
    "execution": {
     "iopub.execute_input": "2021-08-26T13:01:50.354717Z",
     "iopub.status.busy": "2021-08-26T13:01:50.35424Z",
     "iopub.status.idle": "2021-08-26T13:01:50.383818Z",
     "shell.execute_reply": "2021-08-26T13:01:50.382918Z",
     "shell.execute_reply.started": "2021-08-26T13:01:50.354674Z"
    }
   },
   "outputs": [],
   "source": [
    "HTML(visualize(bd_city_can_act, 'CityTile can_action', default_value=-1))"
   ]
  },
  {
   "cell_type": "markdown",
   "metadata": {},
   "source": [
    "#### citytiles list"
   ]
  },
  {
   "cell_type": "code",
   "execution_count": null,
   "metadata": {
    "execution": {
     "iopub.execute_input": "2021-08-26T13:01:50.385533Z",
     "iopub.status.busy": "2021-08-26T13:01:50.385016Z",
     "iopub.status.idle": "2021-08-26T13:01:50.405947Z",
     "shell.execute_reply": "2021-08-26T13:01:50.404776Z",
     "shell.execute_reply.started": "2021-08-26T13:01:50.385488Z"
    }
   },
   "outputs": [],
   "source": [
    "citytile_df"
   ]
  },
  {
   "cell_type": "markdown",
   "metadata": {},
   "source": [
    "# Cities info"
   ]
  },
  {
   "cell_type": "code",
   "execution_count": null,
   "metadata": {
    "execution": {
     "iopub.execute_input": "2021-08-26T13:01:50.40787Z",
     "iopub.status.busy": "2021-08-26T13:01:50.40746Z",
     "iopub.status.idle": "2021-08-26T13:01:50.446618Z",
     "shell.execute_reply": "2021-08-26T13:01:50.445542Z",
     "shell.execute_reply.started": "2021-08-26T13:01:50.407824Z"
    }
   },
   "outputs": [],
   "source": [
    "HTML(visualize_cityid(bd_cityid, 'City id'))"
   ]
  },
  {
   "cell_type": "code",
   "execution_count": null,
   "metadata": {
    "execution": {
     "iopub.execute_input": "2021-08-26T13:01:50.450522Z",
     "iopub.status.busy": "2021-08-26T13:01:50.450172Z",
     "iopub.status.idle": "2021-08-26T13:01:50.482499Z",
     "shell.execute_reply": "2021-08-26T13:01:50.4813Z",
     "shell.execute_reply.started": "2021-08-26T13:01:50.450485Z"
    }
   },
   "outputs": [],
   "source": [
    "HTML(visualize(bd_city, 'City Team'))\n"
   ]
  },
  {
   "cell_type": "code",
   "execution_count": null,
   "metadata": {
    "execution": {
     "iopub.execute_input": "2021-08-26T13:01:50.484581Z",
     "iopub.status.busy": "2021-08-26T13:01:50.48417Z",
     "iopub.status.idle": "2021-08-26T13:01:50.489236Z",
     "shell.execute_reply": "2021-08-26T13:01:50.487968Z",
     "shell.execute_reply.started": "2021-08-26T13:01:50.484539Z"
    }
   },
   "outputs": [],
   "source": [
    "#HTML(visualize(bd_city_fuel, 'City Fuel', default_value=-1.))"
   ]
  },
  {
   "cell_type": "code",
   "execution_count": null,
   "metadata": {
    "execution": {
     "iopub.execute_input": "2021-08-26T13:01:50.491517Z",
     "iopub.status.busy": "2021-08-26T13:01:50.490877Z",
     "iopub.status.idle": "2021-08-26T13:01:50.501881Z",
     "shell.execute_reply": "2021-08-26T13:01:50.500713Z",
     "shell.execute_reply.started": "2021-08-26T13:01:50.491468Z"
    }
   },
   "outputs": [],
   "source": [
    "#HTML(visualize(bd_city_light_upkeep, 'light_upkeep', default_value=-1.))"
   ]
  },
  {
   "cell_type": "markdown",
   "metadata": {},
   "source": [
    "#### cities list"
   ]
  },
  {
   "cell_type": "code",
   "execution_count": null,
   "metadata": {
    "execution": {
     "iopub.execute_input": "2021-08-26T13:01:50.5044Z",
     "iopub.status.busy": "2021-08-26T13:01:50.503647Z",
     "iopub.status.idle": "2021-08-26T13:01:50.522245Z",
     "shell.execute_reply": "2021-08-26T13:01:50.521175Z",
     "shell.execute_reply.started": "2021-08-26T13:01:50.504347Z"
    }
   },
   "outputs": [],
   "source": [
    "city_df"
   ]
  },
  {
   "cell_type": "markdown",
   "metadata": {},
   "source": [
    "# Resource\n",
    "\n",
    "- w:wood\n",
    "- c:coal\n",
    "- u uranium"
   ]
  },
  {
   "cell_type": "code",
   "execution_count": null,
   "metadata": {
    "execution": {
     "iopub.execute_input": "2021-08-26T13:01:50.524646Z",
     "iopub.status.busy": "2021-08-26T13:01:50.524056Z",
     "iopub.status.idle": "2021-08-26T13:01:50.572195Z",
     "shell.execute_reply": "2021-08-26T13:01:50.571103Z",
     "shell.execute_reply.started": "2021-08-26T13:01:50.524596Z"
    }
   },
   "outputs": [],
   "source": [
    "HTML(visualize_res_type(bd_res_type, 'Resource Type', default_value=0))"
   ]
  },
  {
   "cell_type": "code",
   "execution_count": null,
   "metadata": {
    "execution": {
     "iopub.execute_input": "2021-08-26T13:01:50.574234Z",
     "iopub.status.busy": "2021-08-26T13:01:50.573804Z",
     "iopub.status.idle": "2021-08-26T13:01:50.61493Z",
     "shell.execute_reply": "2021-08-26T13:01:50.613881Z",
     "shell.execute_reply.started": "2021-08-26T13:01:50.574187Z"
    }
   },
   "outputs": [],
   "source": [
    "HTML(visualize_res_type(bd_wood, 'Resource Wood', default_value=0))"
   ]
  },
  {
   "cell_type": "code",
   "execution_count": null,
   "metadata": {
    "execution": {
     "iopub.execute_input": "2021-08-26T13:01:50.616666Z",
     "iopub.status.busy": "2021-08-26T13:01:50.616343Z",
     "iopub.status.idle": "2021-08-26T13:01:50.656336Z",
     "shell.execute_reply": "2021-08-26T13:01:50.655073Z",
     "shell.execute_reply.started": "2021-08-26T13:01:50.616635Z"
    }
   },
   "outputs": [],
   "source": [
    "HTML(visualize_res_type(bd_coal, 'Resource Coal', default_value=0))"
   ]
  },
  {
   "cell_type": "code",
   "execution_count": null,
   "metadata": {
    "execution": {
     "iopub.execute_input": "2021-08-26T13:01:50.658071Z",
     "iopub.status.busy": "2021-08-26T13:01:50.657725Z",
     "iopub.status.idle": "2021-08-26T13:01:50.696335Z",
     "shell.execute_reply": "2021-08-26T13:01:50.695205Z",
     "shell.execute_reply.started": "2021-08-26T13:01:50.658024Z"
    }
   },
   "outputs": [],
   "source": [
    "HTML(visualize_res_type(bd_uranium, 'Resource Uranium', default_value=0))"
   ]
  },
  {
   "cell_type": "markdown",
   "metadata": {},
   "source": [
    "#### resources list"
   ]
  },
  {
   "cell_type": "code",
   "execution_count": null,
   "metadata": {
    "execution": {
     "iopub.execute_input": "2021-08-26T13:01:50.69823Z",
     "iopub.status.busy": "2021-08-26T13:01:50.697695Z",
     "iopub.status.idle": "2021-08-26T13:01:50.711549Z",
     "shell.execute_reply": "2021-08-26T13:01:50.710657Z",
     "shell.execute_reply.started": "2021-08-26T13:01:50.698196Z"
    }
   },
   "outputs": [],
   "source": [
    "resource_tiles_df"
   ]
  },
  {
   "cell_type": "markdown",
   "metadata": {},
   "source": [
    "# Units\n",
    "\n",
    "Since units can be stacked on a cell, teamid (player: 0, opponent: 1) is set if there is even one unit on the cell."
   ]
  },
  {
   "cell_type": "code",
   "execution_count": null,
   "metadata": {
    "execution": {
     "iopub.execute_input": "2021-08-26T13:01:50.716185Z",
     "iopub.status.busy": "2021-08-26T13:01:50.715537Z",
     "iopub.status.idle": "2021-08-26T13:01:50.747165Z",
     "shell.execute_reply": "2021-08-26T13:01:50.746172Z",
     "shell.execute_reply.started": "2021-08-26T13:01:50.716133Z"
    }
   },
   "outputs": [],
   "source": [
    "HTML(visualize(bd_unit, 'Unit Team', default_value=-1))"
   ]
  },
  {
   "cell_type": "markdown",
   "metadata": {},
   "source": [
    "#### Units list   "
   ]
  },
  {
   "cell_type": "code",
   "execution_count": null,
   "metadata": {
    "execution": {
     "iopub.execute_input": "2021-08-26T13:01:50.749316Z",
     "iopub.status.busy": "2021-08-26T13:01:50.748737Z",
     "iopub.status.idle": "2021-08-26T13:01:50.766609Z",
     "shell.execute_reply": "2021-08-26T13:01:50.765468Z",
     "shell.execute_reply.started": "2021-08-26T13:01:50.749272Z"
    }
   },
   "outputs": [],
   "source": [
    "unit_df"
   ]
  },
  {
   "cell_type": "markdown",
   "metadata": {},
   "source": [
    "# Players"
   ]
  },
  {
   "cell_type": "markdown",
   "metadata": {},
   "source": [
    "#### players list"
   ]
  },
  {
   "cell_type": "code",
   "execution_count": null,
   "metadata": {
    "execution": {
     "iopub.execute_input": "2021-08-26T13:01:50.768812Z",
     "iopub.status.busy": "2021-08-26T13:01:50.768403Z",
     "iopub.status.idle": "2021-08-26T13:01:50.784921Z",
     "shell.execute_reply": "2021-08-26T13:01:50.783893Z",
     "shell.execute_reply.started": "2021-08-26T13:01:50.768778Z"
    }
   },
   "outputs": [],
   "source": [
    "team_df"
   ]
  }
 ],
 "metadata": {
  "kernelspec": {
   "display_name": "Python 3 (ipykernel)",
   "language": "python",
   "name": "python3"
  },
  "language_info": {
   "codemirror_mode": {
    "name": "ipython",
    "version": 3
   },
   "file_extension": ".py",
   "mimetype": "text/x-python",
   "name": "python",
   "nbconvert_exporter": "python",
   "pygments_lexer": "ipython3",
   "version": "3.8.6"
  },
  "nbTranslate": {
   "displayLangs": [
    "ru",
    "en"
   ],
   "hotkey": "alt-t",
   "langInMainMenu": true,
   "sourceLang": "en",
   "targetLang": "ru",
   "useGoogleTranslate": true
  }
 },
 "nbformat": 4,
 "nbformat_minor": 4
}
