{
 "cells": [
  {
   "cell_type": "code",
   "execution_count": null,
   "metadata": {
    "execution": {
     "iopub.execute_input": "2021-09-05T22:30:51.426505Z",
     "iopub.status.busy": "2021-09-05T22:30:51.426148Z",
     "iopub.status.idle": "2021-09-05T22:30:51.564098Z",
     "shell.execute_reply": "2021-09-05T22:30:51.563019Z",
     "shell.execute_reply.started": "2021-09-05T22:30:51.426449Z"
    }
   },
   "outputs": [],
   "source": [
    "from kaggle_environments import make"
   ]
  },
  {
   "cell_type": "code",
   "execution_count": null,
   "metadata": {
    "execution": {
     "iopub.execute_input": "2021-09-05T22:30:51.565947Z",
     "iopub.status.busy": "2021-09-05T22:30:51.565625Z",
     "iopub.status.idle": "2021-09-05T22:30:52.383297Z",
     "shell.execute_reply": "2021-09-05T22:30:52.382162Z",
     "shell.execute_reply.started": "2021-09-05T22:30:51.565914Z"
    }
   },
   "outputs": [],
   "source": [
    "# create the environment. You can also specify configurations for seed and loglevel as shown below. If not specified, a random seed is chosen. \n",
    "# loglevel default is 0. \n",
    "# 1 is for errors, 2 is for match warnings such as units colliding, invalid commands (recommended)\n",
    "# 3 for info level, and 4 for everything (not recommended)\n",
    "# set annotations True so annotation commands are drawn on visualizer\n",
    "# set debug to True so print statements get shown\n",
    "env = make(\"lux_ai_2021\", configuration={\"seed\": 562124210, \"loglevel\": 2, \"annotations\": True}, debug=True)"
   ]
  },
  {
   "cell_type": "code",
   "execution_count": null,
   "metadata": {
    "execution": {
     "iopub.execute_input": "2021-09-05T22:30:52.385337Z",
     "iopub.status.busy": "2021-09-05T22:30:52.384797Z",
     "iopub.status.idle": "2021-09-05T22:31:01.165709Z",
     "shell.execute_reply": "2021-09-05T22:31:01.164249Z",
     "shell.execute_reply.started": "2021-09-05T22:30:52.385279Z"
    }
   },
   "outputs": [],
   "source": [
    "# run a match between two simple agents, which are the agents we will walk you through on how to build!\n",
    "steps = env.run([\"simple_agent\", \"simple_agent\"])\n",
    "# if you are viewing this outside of the interactive jupyter notebook / kaggle notebooks mode, this may look cutoff\n",
    "# render the game, feel free to change width and height to your liking. We recommend keeping them as large as possible for better quality.\n",
    "# you may also want to close the output of this render cell or else the notebook might get laggy\n",
    "env.render(mode=\"ipython\", width=1200, height=800)"
   ]
  },
  {
   "cell_type": "code",
   "execution_count": null,
   "metadata": {
    "execution": {
     "iopub.execute_input": "2021-09-05T22:32:30.870488Z",
     "iopub.status.busy": "2021-09-05T22:32:30.870086Z",
     "iopub.status.idle": "2021-09-05T22:32:30.880782Z",
     "shell.execute_reply": "2021-09-05T22:32:30.879613Z",
     "shell.execute_reply.started": "2021-09-05T22:32:30.870436Z"
    }
   },
   "outputs": [],
   "source": [
    "# for kaggle-environments\n",
    "from lux.game import Game\n",
    "from lux.game_map import Cell, RESOURCE_TYPES, Position\n",
    "from lux.constants import Constants\n",
    "from lux.game_constants import GAME_CONSTANTS\n",
    "from lux import annotate\n",
    "import math\n",
    "import sys\n",
    "\n",
    "# we declare this global game_state object so that state persists across turns so we do not need to reinitialize it all the time\n",
    "game_state = None\n",
    "def agent(observation, configuration):\n",
    "    global game_state\n",
    "\n",
    "    ### Do not edit ###\n",
    "    if observation[\"step\"] == 0:\n",
    "        game_state = Game()\n",
    "        game_state._initialize(observation[\"updates\"])\n",
    "        game_state._update(observation[\"updates\"][2:])\n",
    "        game_state.id = observation.player\n",
    "    else:\n",
    "        game_state._update(observation[\"updates\"])\n",
    "    \n",
    "    actions = []\n",
    "\n",
    "    ### AI Code goes down here! ### \n",
    "    player = game_state.players[observation.player]\n",
    "    opponent = game_state.players[(observation.player + 1) % 2]\n",
    "    width, height = game_state.map.width, game_state.map.height\n",
    "    \n",
    "    # add debug statements like so!\n",
    "    if game_state.turn == 0:\n",
    "        print(\"Agent is running!\", file=sys.stderr)\n",
    "        actions.append(annotate.circle(0, 0))\n",
    "    return actions"
   ]
  },
  {
   "cell_type": "code",
   "execution_count": null,
   "metadata": {
    "execution": {
     "iopub.execute_input": "2021-09-05T22:32:40.557829Z",
     "iopub.status.busy": "2021-09-05T22:32:40.557511Z",
     "iopub.status.idle": "2021-09-05T22:32:40.578978Z",
     "shell.execute_reply": "2021-09-05T22:32:40.578212Z",
     "shell.execute_reply.started": "2021-09-05T22:32:40.557798Z"
    }
   },
   "outputs": [],
   "source": [
    "# lets look at some of the resources found\n",
    "resource_tiles = find_resources(game_state)\n",
    "cell = resource_tiles[0]\n",
    "print(\"Cell at\", cell.pos, \"has\")\n",
    "print(cell.resource.type, cell.resource.amount)"
   ]
  },
  {
   "cell_type": "code",
   "execution_count": null,
   "metadata": {
    "execution": {
     "iopub.execute_input": "2021-09-05T22:32:40.580642Z",
     "iopub.status.busy": "2021-09-05T22:32:40.580206Z",
     "iopub.status.idle": "2021-09-05T22:32:40.59297Z",
     "shell.execute_reply": "2021-09-05T22:32:40.591829Z",
     "shell.execute_reply.started": "2021-09-05T22:32:40.580597Z"
    }
   },
   "outputs": [],
   "source": [
    "# lets see if we do find some close resources\n",
    "cell = find_closest_resources(Position(1, 1), game_state.players[0], resource_tiles)\n",
    "print(\"Closest resource at\", cell.pos, \"has\")\n",
    "print(cell.resource.type, cell.resource.amount)"
   ]
  },
  {
   "cell_type": "markdown",
   "metadata": {},
   "source": [
    "# Submission"
   ]
  },
  {
   "cell_type": "code",
   "execution_count": null,
   "metadata": {
    "execution": {
     "iopub.status.busy": "2021-09-05T22:32:12.351799Z",
     "iopub.status.idle": "2021-09-05T22:32:12.352278Z"
    }
   },
   "outputs": [],
   "source": [
    "%%writefile agent.py\n",
    "# for kaggle-environments\n",
    "from lux.game import Game\n",
    "from lux.game_map import Cell, RESOURCE_TYPES\n",
    "from lux.constants import Constants\n",
    "from lux.game_constants import GAME_CONSTANTS\n",
    "from lux import annotate\n",
    "import math\n",
    "import sys\n",
    "\n",
    "### Define helper functions\n",
    "\n",
    "# this snippet finds all resources stored on the map and puts them into a list so we can search over them\n",
    "def find_resources(game_state):\n",
    "    resource_tiles: list[Cell] = []\n",
    "    width, height = game_state.map_width, game_state.map_height\n",
    "    for y in range(height):\n",
    "        for x in range(width):\n",
    "            cell = game_state.map.get_cell(x, y)\n",
    "            if cell.has_resource():\n",
    "                resource_tiles.append(cell)\n",
    "    return resource_tiles\n",
    "\n",
    "# the next snippet finds the closest resources that we can mine given position on a map\n",
    "def find_closest_resources(pos, player, resource_tiles):\n",
    "    closest_dist = math.inf\n",
    "    closest_resource_tile = None\n",
    "    for resource_tile in resource_tiles:\n",
    "        # we skip over resources that we can't mine due to not having researched them\n",
    "        if resource_tile.resource.type == Constants.RESOURCE_TYPES.COAL and not player.researched_coal(): continue\n",
    "        if resource_tile.resource.type == Constants.RESOURCE_TYPES.URANIUM and not player.researched_uranium(): continue\n",
    "        dist = resource_tile.pos.distance_to(pos)\n",
    "        if dist < closest_dist:\n",
    "            closest_dist = dist\n",
    "            closest_resource_tile = resource_tile\n",
    "    return closest_resource_tile\n",
    "\n",
    "def find_closest_city_tile(pos, player):\n",
    "    closest_city_tile = None\n",
    "    if len(player.cities) > 0:\n",
    "        closest_dist = math.inf\n",
    "        # the cities are stored as a dictionary mapping city id to the city object, which has a citytiles field that\n",
    "        # contains the information of all citytiles in that city\n",
    "        for k, city in player.cities.items():\n",
    "            for city_tile in city.citytiles:\n",
    "                dist = city_tile.pos.distance_to(pos)\n",
    "                if dist < closest_dist:\n",
    "                    closest_dist = dist\n",
    "                    closest_city_tile = city_tile\n",
    "    return closest_city_tile\n",
    "\n",
    "game_state = None\n",
    "def agent(observation, configuration):\n",
    "    global game_state\n",
    "\n",
    "    ### Do not edit ###\n",
    "    if observation[\"step\"] == 0:\n",
    "        game_state = Game()\n",
    "        game_state._initialize(observation[\"updates\"])\n",
    "        game_state._update(observation[\"updates\"][2:])\n",
    "        game_state.id = observation.player\n",
    "    else:\n",
    "        game_state._update(observation[\"updates\"])\n",
    "    \n",
    "    actions = []\n",
    "\n",
    "    ### AI Code goes down here! ### \n",
    "    player = game_state.players[observation.player]\n",
    "    opponent = game_state.players[(observation.player + 1) % 2]\n",
    "    width, height = game_state.map.width, game_state.map.height\n",
    "\n",
    "    resource_tiles = find_resources(game_state)\n",
    "    \n",
    "    for unit in player.units:\n",
    "        # if the unit is a worker (can mine resources) and can perform an action this turn\n",
    "        if unit.is_worker() and unit.can_act():\n",
    "            # we want to mine only if there is space left in the worker's cargo\n",
    "            if unit.get_cargo_space_left() > 0:\n",
    "                # find the closest resource if it exists to this unit\n",
    "                closest_resource_tile = find_closest_resources(unit.pos, player, resource_tiles)\n",
    "                if closest_resource_tile is not None:\n",
    "                    # create a move action to move this unit in the direction of the closest resource tile and add to our actions list\n",
    "                    action = unit.move(unit.pos.direction_to(closest_resource_tile.pos))\n",
    "                    actions.append(action)\n",
    "            else:\n",
    "                # find the closest citytile and move the unit towards it to drop resources to a citytile to fuel the city\n",
    "                closest_city_tile = find_closest_city_tile(unit.pos, player)\n",
    "                if closest_city_tile is not None:\n",
    "                    # create a move action to move this unit in the direction of the closest resource tile and add to our actions list\n",
    "                    action = unit.move(unit.pos.direction_to(closest_city_tile.pos))\n",
    "                    actions.append(action)\n",
    "    \n",
    "    return actions"
   ]
  },
  {
   "cell_type": "code",
   "execution_count": null,
   "metadata": {
    "execution": {
     "iopub.status.busy": "2021-09-05T22:32:12.355569Z",
     "iopub.status.idle": "2021-09-05T22:32:12.356043Z"
    }
   },
   "outputs": [],
   "source": [
    "import json\n",
    "replay = env.toJSON()\n",
    "with open(\"replay.json\", \"w\") as f:\n",
    "    json.dump(replay, f)"
   ]
  },
  {
   "cell_type": "markdown",
   "metadata": {},
   "source": [
    "## Create a submission"
   ]
  },
  {
   "cell_type": "code",
   "execution_count": null,
   "metadata": {
    "execution": {
     "iopub.status.busy": "2021-09-05T22:32:12.353641Z",
     "iopub.status.idle": "2021-09-05T22:32:12.354102Z"
    }
   },
   "outputs": [],
   "source": [
    "!tar -czf submission.tar.gz *"
   ]
  },
  {
   "cell_type": "markdown",
   "metadata": {},
   "source": [
    "## Submit"
   ]
  },
  {
   "cell_type": "code",
   "execution_count": null,
   "metadata": {},
   "outputs": [],
   "source": [
    "!kaggle competitions submit -c lux-ai-2021 -f submission.py -m \"submission\""
   ]
  },
  {
   "cell_type": "markdown",
   "metadata": {},
   "source": [
    "## Suggestions / Strategies\n",
    "\n",
    "There are a lot of places that could be improved with the agent we have in this tutorial notebook. Here are some!\n",
    "\n",
    "- Using the build city action to build new cities and thus build new units\n",
    "- Having cities perform research each turn to unlock new resources\n",
    "- Writing collision-free code that lets units move smoothly around and through each other when navigating to targets\n",
    "- Mining resources near your opponent's citytiles so they have less easy access to resources\n",
    "- Using carts to deliver resources from far away clusters of wood, coal, uranium to a city in need\n",
    "- Sending worker units over to the opponent's roads and pillaging them to slow down their agent\n",
    "- Optimizing over how much to mine out of forests before letting them regrow so you can build more cities and get sustainable fuel"
   ]
  }
 ],
 "metadata": {
  "kernelspec": {
   "display_name": "Python 3 (ipykernel)",
   "language": "python",
   "name": "python3"
  },
  "language_info": {
   "codemirror_mode": {
    "name": "ipython",
    "version": 3
   },
   "file_extension": ".py",
   "mimetype": "text/x-python",
   "name": "python",
   "nbconvert_exporter": "python",
   "pygments_lexer": "ipython3",
   "version": "3.8.6"
  },
  "nbTranslate": {
   "displayLangs": [
    "ru",
    "en"
   ],
   "hotkey": "alt-t",
   "langInMainMenu": true,
   "sourceLang": "en",
   "targetLang": "ru",
   "useGoogleTranslate": true
  }
 },
 "nbformat": 4,
 "nbformat_minor": 4
}
